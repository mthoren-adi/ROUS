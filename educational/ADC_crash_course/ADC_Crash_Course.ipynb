{
 "cells": [
  {
   "cell_type": "markdown",
   "metadata": {
    "id": "TVNfNaYMLP5z"
   },
   "source": [
    "# ADC Crash Course!\n",
    "\n",
    "An attempt to aggregate a bunch of lessons learned items from several decades of ADC applications.\n",
    "\n",
    "This notebook is intended to be accessible from several angles:\n",
    "Running Jupyter Notebook locally\n",
    "Running in Google Colab - no istallation of anything needed!\n",
    "\n",
    "Either of these can run the simulation cells, and dependencies will be kept to a minimum.\n",
    "\n",
    "There will also be examples that talk to hardware - this requires that the local runtime environment be set up properly with all dependencies. Notes are included below on how to connect to the local runtime from Google Colab as well.\n",
    "\n",
    "\n",
    "**References to organize later:**\n",
    "\n",
    "1. Maximum SNR vs. Clock Jitter:\n",
    "https://www.analog.com/en/technical-articles/maximum-snr-vs-clock-jitter.html\n",
    "\n",
    "2. Sampled Systems and the Effects of Clock Phase Noise and Jitter:\n",
    "http://www.analog.com/AN-756\n",
    "\n",
    "3. On the Use of Windows for Harmonic Analysis With the Discrete Fourier Transform, Frederic Harris\n",
    "https://www.researchgate.net/publication/2995027_On_the_Use_of_Windows_for_Harmonic_Analysis_With_the_Discrete_Fourier_Transform\n",
    "4. \"Taking the Mystery \"SNR = 6.02N + 1.76dB,\" and Why You Should Care\" (EVEN THOUGH with most modern converters you shouldn't care 🙂 ) https://www.analog.com/media/en/training-seminars/tutorials/mt-001.pdf \n",
    "\n",
    "5. IEEE 1241-2010 - IEEE Standard for Terminology and Test Methods for Analog-to-Digital Converters: https://ieeexplore.ieee.org/document/5692956\n",
    "\n",
    "6. MT-200: Minimizing Jitter in ADC Clock Interfaces:\n",
    "https://www.analog.com/media/en/training-seminars/tutorials/MT-200.pdf\n",
    "\n",
    "7. DN1013 - Understanding the Effect of Clock Jitter on High Speed ADCs:\n",
    "https://www.analog.com/media/en/reference-design-documentation/design-notes/dn1013f.pdf\n",
    "\n",
    "8. Scientist & Engineer's Guide to Digital Signal Processing, 1999:\n",
    "https://www.analog.com/en/education/education-library/scientist_engineers_guide.html\n",
    "(While still largely relevant, note that Chapter 3 on ADC and DAC dwells heavily on high-order analog filters, which have largely been replaced in oversampling converters.)\n",
    "\n",
    "9. The Data Conversion Handbook, 2005:\n",
    "https://www.analog.com/en/education/education-library/data-conversion-handbook.html\n",
    "See Chaper 5, Testing Data Converters. FFT Basics, p. 5.51. Figure 5.67. Talks about choice of prime FFT bin, windowing, other practical stuff."
   ]
  },
  {
   "cell_type": "markdown",
   "metadata": {
    "id": "RfLTd0UlWA8J"
   },
   "source": [
    "# Introduction\n",
    "Simulation of basic FFT operation, SNR calculation\n",
    "Basically, we're making a vector of N time domain\n",
    "samples, then corrupting the signal in several \"real world\" ways:\n",
    "\n",
    "1. First, start with a perfect signal, or as perfect as a computer can generate. The computer is using at least 64-bit floating point math, which except in extreme cases with multiple error sources, is more than adequate for our purposes.\n",
    "2.   Quantization noise is added by simply starting with a signal of amplitude\n",
    "2^(number of bits), then truncating the decimal portion with the int function. We'll take a close look at the resulting errors, and observe qualitatively how closely they resemble typical textbook representations.\n",
    "\n",
    "2. Develop an understanding of analysis in the frequency domain - how to separate signal power and noise power, calculate SNR in ideal cases.\n",
    "\n",
    "3. Thermal noise is added to the signal, which is just a random\n",
    "number with a gaussian distribution. This is often referred to as the\n",
    "\"transition noise\" of an ADC, and it can never be smaller than K*T/C where\n",
    "K is Boltzmann's constant, T is absolute temperature, and C is the size of the\n",
    "ADC's sample capacitor.\n",
    "\n",
    "4. Add distortion components to the signal. \n",
    "\n",
    "5. Random jitter is added to the sample clock. This is an accurate model of\n",
    "wideband clock jitter that is spread across seveal Nyquist bands\n",
    "\n",
    "6. Deterministic jitter is added to the sample clock, representing phase noise\n",
    "at a particular frequency. This gives an intuitive understanding of the effect\n",
    "of phase noise as a signal's frequency and amplitude change.\n",
    "\n",
    "We'll then pick apart the signal in the frequency domain, comparing the power in the signal to \"everything else\", which we're assuming to be noise.\n",
    "Shown below is a screenshot from Linear Technology's PScope software, an evaluation tool for ADCs. While not perfect and only targetting proprietary data capture cards, the analysis functions are particularly well thought out. It's worth a half-hour look through the Pscope manual:\n",
    "\n",
    "**http://ltspice.linear-tech.com/psmanual/manual.pdf**\n",
    "\n",
    "<img src=\"pscope_example.PNG\" width=600>"
   ]
  },
  {
   "cell_type": "markdown",
   "metadata": {},
   "source": [
    "# Basics of Analog to Digital conversion: Quantization\n",
    "Let's start with the very basics. By that - the most fundamental operation of taking a signal that is continuous in both time and value (or amplitude, signal level, whatever you want to call it), and quantizing it in both time and value. One subtle point is that because we're doing this simulation on a digital computer, every single number is already quantized! The default precision of a NumPy floating point number is 64 bits (11 bits exponent, 52 bits mantissa) **(need to confirm)** But this quantization level is MUCH MUCH finer than that of the ADCs that we're simulating, which top out at about 32 bits (and even this is a stretch, which we'll dig into later). This is similar to the idea that when making a precise measurement, your measurement instrument should be some factor (often between four and ten times) more precise than the desired measurement precision.\n",
    "\n",
    "There are several signal waveforms that we could use for this illustration, a steady (DC) signal, a ramp, a wavelet of some sort, but we're going to use a sinusoid. Most ADCs that are intended for signal acquisition are characterized with sinusoidal inputs. Sinewaves are relatively easy to generate, and easy to analyze using the Fourier transform. We'll be making extensive use of NumPy, and in this case the cosine function:\n",
    "\n",
    "https://numpy.org/doc/stable/reference/generated/numpy.cos.html\n",
    "\n",
    "np.cos is simply a function that accepts an array of radian values, and returns an array of the corresponding cosine of those values. There are a few other optional features of the cos function, refer to the documentation.\n",
    "\n",
    "Enough dragging on here, let's build up the first incarnation of our signal generator, heavily commented :) \n",
    "\n"
   ]
  },
  {
   "cell_type": "code",
   "execution_count": null,
   "metadata": {
    "executionInfo": {
     "elapsed": 106,
     "status": "ok",
     "timestamp": 1650809550303,
     "user": {
      "displayName": "Thoren Scientific",
      "userId": "06507099400106311504"
     },
     "user_tz": 420
    },
    "id": "AdvY0J0w3kWz"
   },
   "outputs": [],
   "source": [
    "# Still struggling with getting interactive plots to work. From Travis' notes:\n",
    "# Try Plotly, Streamlet, Dash.\n",
    "# ipymply is a dependency for the matplotlib widget backend:\n",
    "# !pip install ipympl"
   ]
  },
  {
   "cell_type": "code",
   "execution_count": null,
   "metadata": {
    "colab": {
     "base_uri": "https://localhost:8080/"
    },
    "executionInfo": {
     "elapsed": 379,
     "status": "ok",
     "timestamp": 1650814485214,
     "user": {
      "displayName": "Thoren Scientific",
      "userId": "06507099400106311504"
     },
     "user_tz": 420
    },
    "id": "Ex4s64ArMjAx",
    "outputId": "8f5d9324-bee8-4ed8-dbe1-657cf85effd7"
   },
   "outputs": [],
   "source": [
    "\"\"\"Define a signal generation function. We'll add more to it later, but at the moment\n",
    "we want to simply scale the analog signal's range of +/-VREF/2 to +/-2^(bits-1)\n",
    "The output swings from -2**(bits-1) to +2**(bits-1) for a total span of 2**bits. \"\"\"\n",
    "\n",
    "import numpy as np # Import NumPy library\n",
    "\n",
    "def sine_sig_gen(N, freq, fs, signal_ampl, vref, bits, quantize = True, randomize_phase = False):\n",
    "    \"\"\"\n",
    "    Parameters:\n",
    "        N - Number of samples\n",
    "        freq - signal frequency in Hertz\n",
    "        fs - sample rate in samples per second\n",
    "        signal_ampl - sinewave signal amplitude (Textbook definition - peak value away from zero)\n",
    "        vref - ADC voltage reference, representing the peak-to-peak range of inputs\n",
    "        bits - ADC output will be quantized to 2**bits discrete values\n",
    "    \n",
    "    Returns:\n",
    "        quantized ADC values as floating point array of length N, or unquantized floating point\n",
    "        values if quantize parameter is set to False.\n",
    "    \"\"\"\n",
    "    smp_times = np.arange(0, N/fs, 1.0/fs)\n",
    "    \"\"\"Sampling instants. We want N samples, taken at some sample rate fs in Hertz, which implies 1/fs\n",
    "    seconds between samples. The NumPy arange function returns evenly spaced values within a given\n",
    "    interval, which is exactly what we want.\"\"\"\n",
    "    \n",
    "    if randomize_phase:\n",
    "        phase = np.random.random()* 2.0 * np.pi\n",
    "    else:\n",
    "        phase = 0.0\n",
    "    \"\"\"Randomize phase if set to True.\"\"\"\n",
    "    \n",
    "    signal = signal_ampl * np.cos(2.0*np.pi*freq*smp_times+phase)\n",
    "    \"\"\"Okay, generate the signal. We are using the strict mathematical definition of amplitude, which\n",
    "    is half of the peak-to-peak excursion of the signal. The cosine function swings from -1.0 to +1.0,\n",
    "    so no scaling factor is necessary.\n",
    "    At this point, the signal is discrete in the time domain, because we've got a finite number of samples\n",
    "    taken over the measurement interval. In the voltage domain, the precision is 64-bit floating\n",
    "    point, MUCH finer than any real world ADC.\"\"\"\n",
    "    \n",
    "    adc_inf_bits = ((signal / vref) * 2**bits)\n",
    "    \"\"\"THIS could be considered the \"Fundamental ADC equation\". An ADC performs the mathematical operation of\n",
    "    division - the output code is proportional to the input voltage divided by the reference. Maybe with some\n",
    "    offset, maybe with some scaling factor, but fundamentally, it's plain old division. The signal is mapped\n",
    "    to digital values, in this case from -2**(bits-1) to 2**(bits-1). The bits-1 factor is because we've got\n",
    "    a bipolar signal that swings from negative vref/2 to positive vref/2.\n",
    "    Note the name of this variable, which implies an \"infinity bit ADC\". It's not really infinity bits, but\n",
    "    in this case, a 64-bit float is close enough to infinity that we can assume it's infinity. \"\"\"\n",
    "\n",
    "    adc_output = np.around(adc_inf_bits, decimals=0)\n",
    "    \"\"\"Here is where the quantization happens! One might be tempted to simply convert to integers at this point, like:\n",
    "    adc_output = adc_inf_bits.astype(int)\n",
    "    BUT, there appears to be a subtle effect that knocks off a couple of dB in SNR and produces something that\n",
    "    looks like odd harmonics. This might be due to how the rounding is done, or the repeated type conversions,\n",
    "    we'll leave that as an exercise for a motivated reader. So... we'll do this instead! At this point, the signal\n",
    "    is quantized to within 64-bit floating precision of the \"ideal\" integer value. \"\"\"\n",
    "    \n",
    "    if quantize:\n",
    "        return adc_output\n",
    "    else:\n",
    "        return adc_inf_bits"
   ]
  },
  {
   "cell_type": "code",
   "execution_count": null,
   "metadata": {
    "colab": {
     "base_uri": "https://localhost:8080/"
    },
    "executionInfo": {
     "elapsed": 119,
     "status": "ok",
     "timestamp": 1650814477487,
     "user": {
      "displayName": "Thoren Scientific",
      "userId": "06507099400106311504"
     },
     "user_tz": 420
    },
    "id": "PWn33TnhLMMW",
    "outputId": "19fed58e-d3fe-461c-a9ea-da000a187c97"
   },
   "outputs": [],
   "source": [
    "\n",
    "# Okay, let's get started.\n",
    "# Pull in the good stuff from various libraries...\n",
    "import numpy as np\n",
    "from scipy import fft\n",
    "from matplotlib import pyplot as plt\n",
    "# from google.colab import output\n",
    "# output.enable_custom_widget_manager()\n",
    "#from google.colab import output\n",
    "#output.enable_custom_widget_manager()\n",
    "\n",
    "\n",
    "'''############################'''\n",
    "'''Set up simulation parameters'''\n",
    "'''############################'''\n",
    "# There are a few ways that we could express sample rates and frequencies -\n",
    "# Samples per second for sample rate, Hz for signal frequency, etc. For the sake of\n",
    "# conveneience let's start by thinking in terms of normalized sample rate of unity (one smample per second, for example)\n",
    "# Then the FFT output will span from zero (DC) to half the sample rate (or 0.5 cycles per sample)\n",
    "\n",
    "# If the idea of FFT \"bins\" is confusing, now might be a good time to do some \n",
    "# YouTubing on FFTs. And eventually, we'll get this \"deconstructed FFT\" moved over to Colab:\n",
    "# https://github.com/mthoren-adi/ROUS/blob/master/educational/illustrated_fft.py\n",
    "\n",
    "# But fundamentally - an FFT will take a set of time domain samples and produce an output\n",
    "# in the frequency domain. Each \"bin\" represents an EXACT frequency - the first bin (bin 0)\n",
    "# is zero frequency (DC), the second bin (bin 1) is fs/N, where:\n",
    "# fs is the sample rate\n",
    "# N is the number of points in the input data.\n",
    "\n",
    "fs = 100000.0\n",
    "\"\"\" We're not going to use this just yet, but let's pick a sample rate,\n",
    "somewhat arbitrarily. We'll use 100ksps because it will comfortably digitize audio,\n",
    "and when we get to talking to actual hardware, we'll be able to listen to the experiments.\n",
    "More senses excited = BETTER! \"\"\"\n",
    "\n",
    "N = 1024 \n",
    "\"\"\" Number of data points in the input record. The \"standard\" FFT requires a power of 2\n",
    "number of data points. This will also be the number of points in the FFT output.\n",
    "NOTE that you CAN pass a non power of 2\"\"\"\n",
    "\n",
    "bin_number = 4\n",
    "\"\"\" Bin number of the signal itself. If bin_number is greater\n",
    "than N/2, then the signal will be aliased accordingly.\n",
    "For now, stick with integer bin numbers. We'll get to non-integer bins soon enough!\n",
    "Also, prime numbers are less likely to produce repeating artifacts, a subtle but sometimes\n",
    "noticeable effect.\"\"\"\n",
    "\n",
    "freq = fs * bin_number / N\n",
    "\n",
    "print(\"Sample Rate: \", fs, \" samples per second\")\n",
    "print(\"FFT Bin Number: \", bin_number)\n",
    "print(\"Input frequency: \", fs * bin_number / N, \" Hz\")\n",
    "\n",
    "bits = 16\n",
    "\"\"\" ADC resolution (Theoretical!!)\n",
    "This determines the quantization noise of the converter. \n",
    "If you set all of the following imperfections to zero (or close to it),\n",
    "you should see an SNR of about N * 6.02 + 1.78 dB\"\"\"\n",
    "\n",
    "vref = 5.0\n",
    "signal_ampl = 0.0625\n",
    "\"\"\" Define a typical reference voltage and signal level to make this a bit more tangible.\n",
    "Remember that an ADC performs the function of division:\n",
    "Output code = (input voltage / reference) * 2^bits\n",
    "\n",
    "Or, if the ADC has scaling / offsetting factors:\n",
    "Output code = ((input voltage - offset) / full-scale span) * 2^bits\n",
    "\n",
    "But let's stick with the first one for now.\n",
    "We'll start out with a 5V reference, and signal level is peak-to-peak such that the ADC\n",
    "is at full-scale when it's equal to the reference (not RMS, not amplitude, etc.) \"\"\"\n",
    "\n",
    "thermal_noise_lvl = 7.6e-6 # 76uV is about 1LSB for a 16-bit ADC w/ 5V reference.\n",
    "print(\"thermal noise level (uV): \", thermal_noise_lvl * 1e6)\n",
    "\n",
    "jitter_lvl = 0.00000001 #0.000025 # clock jitter, expressed as RMS fraction of a sampling interval\n",
    "\n",
    "# Now for some phase noise... To illustrate the concept, we're going to introduce\n",
    "# a single tone of phase noise, rather than a distribution (as is the case in\n",
    "# \"real life\".) This IS an accurate representation of a sinusoidal disturbance\n",
    "# on the clock.\n",
    "phase_noise_offset = 25 # Offset from carrier in bins\n",
    "phase_noise_lvl = 0.000000001 #.000001 #Amplitude, in fraction of a sample period\n",
    "'''##############################'''\n",
    "'''END set up simulation parameters'''\n",
    "'''##############################'''\n",
    "print(\"Parameter Setup Done.\")"
   ]
  },
  {
   "cell_type": "code",
   "execution_count": null,
   "metadata": {},
   "outputs": [],
   "source": [
    "%matplotlib widget\n",
    "\n",
    "adc_output = sine_sig_gen(N, freq, fs, signal_ampl, vref, bits)\n",
    "signal = sine_sig_gen(N, freq, fs, signal_ampl, vref, bits, quantize = False)\n",
    "\n",
    "plt.close('all')\n",
    "plt.figure(1)\n",
    "fig, ax1 = plt.subplots()\n",
    "\n",
    "plt.title(\"Time domain data and exaggerated quantization noise\")\n",
    "plt.xlabel(\"Sample Number\")\n",
    "plt.ylabel(\"ADC counts\")\n",
    "\n",
    "ax1.plot(adc_output, color='red')\n",
    "ax2 = ax1.twinx()\n",
    "ax2.plot((adc_output - signal), marker='.', color='blue')\n",
    "ax2.set_ylim(-1.0, 1.0)\n",
    "ax2.set_ylabel(\"Quantization Error (lsb)\")\n",
    "fig.tight_layout()\n",
    "plt.show()\n",
    "\n",
    "\n",
    "#plt.plot(adc_output)\n",
    "#plt.plot((adc_output - signal)* 2**(bits-2))\n",
    "#plt.xlim(0, 100)\n",
    "#plt.show"
   ]
  },
  {
   "cell_type": "markdown",
   "metadata": {},
   "source": [
    "# Basics of Signal Analysis using the FFT\n",
    "We've built up a signal, quantized it, and gotten a feel for what the error, or noise, looks like in the time domain. But how does quantization noise manifest in the frequency domain, and how do we start picking apart the spectrum and comparing signal to noise?"
   ]
  },
  {
   "cell_type": "code",
   "execution_count": null,
   "metadata": {
    "colab": {
     "base_uri": "https://localhost:8080/"
    },
    "executionInfo": {
     "elapsed": 379,
     "status": "ok",
     "timestamp": 1650814485214,
     "user": {
      "displayName": "Thoren Scientific",
      "userId": "06507099400106311504"
     },
     "user_tz": 420
    },
    "id": "Ex4s64ArMjAx",
    "outputId": "8f5d9324-bee8-4ed8-dbe1-657cf85effd7",
    "scrolled": true
   },
   "outputs": [],
   "source": [
    "# First, let's set up our parameters to accentuate the effects we're looking for, or at least make them easier to locate:\n",
    "N = 4096\n",
    "fs = 100000\n",
    "bin_number = 103\n",
    "signal_ampl = 2.5\n",
    "vref = 5.0\n",
    "bits = 16\n",
    "\n",
    "freq = fs * bin_number / N\n",
    "\n",
    "\n",
    "adc_output = sine_sig_gen(N, freq, fs, signal_ampl, vref, bits)\n",
    "\n",
    "print(\"length: \", len(adc_output))\n",
    "print(\"max value: \", np.max(adc_output))\n",
    "print(\"min value: \", np.min(adc_output))\n",
    "print(\"DC content: \", np.average(adc_output))\n",
    "\n",
    "freq_domain = np.fft.fft(adc_output)\n",
    "freq_domain_magnitude = np.abs(freq_domain)/N\n",
    "\n",
    "freq_domain_signal = np.zeros(N)\n",
    "freq_domain_noise = np.zeros(N)\n",
    "\n",
    "#Now notch the signal out of the spectrum. We have the advantage here\n",
    "#that there's only a single bin of signal, and no distortion.\n",
    "\n",
    "np.copyto(freq_domain_noise, freq_domain_magnitude) #Make a copy\n",
    "freq_domain_noise[bin_number] = 0 #Zero out positive signal bin\n",
    "freq_domain_noise[N - bin_number] = 0 # And the negative bin\n",
    "# Note that we're also zeroing out one bin worth of noise. We're going to assume this is insignificant\n",
    "# in this simulation, but if you're zeroing out lots of bins with a mask, you might want to fill them in\n",
    "# with the average noise floor from the bins that aren't zeroed\n",
    "# (or some more intelligent estimate if the noise floor is wiggling around.)\n",
    "\n",
    "#Make another array that just has the signal\n",
    "freq_domain_signal[bin_number] = freq_domain_magnitude[bin_number]\n",
    "freq_domain_signal[N - bin_number] = freq_domain_magnitude[N - bin_number]\n",
    "\n",
    "signal = 0.0 #Start with zero signal, zero noise\n",
    "noise = 0.0\n",
    "\n",
    "# Sum the power root-sum-square in each bin. Abs() function finds the power, a resistor dissipating\n",
    "# power does not care what the phase is!\n",
    "\n",
    "signal_ss = np.sum(((freq_domain_signal)) ** 2)\n",
    "noise_ss = np.sum(((freq_domain_noise)) ** 2 )\n",
    "\n",
    "signal = np.sqrt(signal_ss)#  / N\n",
    "noise = np.sqrt(noise_ss) # / N\n",
    "\n",
    "snr_fraction = signal / noise\n",
    "snr = 20*np.log10(signal / noise)\n",
    "print (\"Signal: \" + str(signal))\n",
    "print (\"Noise: \" + str(noise))\n",
    "print (\"Fractional signal to noise: \" + str(snr_fraction))\n",
    "print (\"SNR: \" + str(snr) + \"dB\")\n",
    "print (\"Theoretical SNR based on 6.02*bits + 1.76: \", (6.02 * bits) + 1.76)\n",
    "\n",
    "max_freq_domain_magnitude = max(freq_domain_magnitude)\n",
    "min_mag = np.ones(N)* 1e-14\n",
    "freq_domain_magnitude_db = 20 * np.log10(np.maximum(freq_domain_magnitude, min_mag) / max_freq_domain_magnitude)"
   ]
  },
  {
   "cell_type": "code",
   "execution_count": null,
   "metadata": {
    "id": "nWMKzjHvMop7",
    "scrolled": true
   },
   "outputs": [],
   "source": [
    "# from google.colab import output\n",
    "# output.enable_custom_widget_manager()\n",
    "\n",
    "%matplotlib widget\n",
    "plt.close('all')\n",
    "plt.figure(1)\n",
    "plt.title(\"Time domain data, with imperfections\")\n",
    "plt.xlabel(\"Sample Number\")\n",
    "plt.ylabel(\"ADC counts\")\n",
    "plt.plot(adc_output)\n",
    "#plt.xlim(0, 100)\n",
    "plt.show\n",
    "\n",
    "plt.figure(2)\n",
    "plt.title(\"Spectrum\")\n",
    "plt.xlabel(\"FFT Bin\")\n",
    "plt.ylabel(\"Signal Level, dBC\")\n",
    "plt.plot(freq_domain_magnitude_db)\n",
    "# plt.xlim(0, 500) # Uncomment to manually zoom\n",
    "#plt.ylim(-140, 0)\n",
    "plt.show"
   ]
  },
  {
   "cell_type": "markdown",
   "metadata": {
    "id": "3xoQNrNNHHm5"
   },
   "source": [
    "Alrighty, that was a nice warmup! we've compared a single bin worth of signal to the rest of bins as noise, and plotted out the FFT. But why is the FFT output \"mirrored\"? Remember that the output of an FFT has the same number of points as the input data, and bin 1 represents a frequency of fs/N. Visually, this is a sinewave that covers a single cycle over the entire time record. And from Nyquist, the FFT output can only digitize to fs/2, which is the center of the FFT. The right-hand side of the FFT is thus a mirroring of the left side, from fs/2 back to DC. Sort of. It's more accurate to think of it as INCREASING in frequency from fs/t UP to fs! Remember that a signal at fs... will ALIAS to DC!\n",
    "\n",
    "Another important concept - both the input and output of an FFT are complex. It just happens that if you only stuff real values into the FFT input, the outputs will be complex conjugates mirrored around fs/2. That's a mouthful, so let's take a look at a couple of examples from the data above:"
   ]
  },
  {
   "cell_type": "code",
   "execution_count": null,
   "metadata": {
    "colab": {
     "base_uri": "https://localhost:8080/"
    },
    "executionInfo": {
     "elapsed": 7,
     "status": "ok",
     "timestamp": 1650809551408,
     "user": {
      "displayName": "Thoren Scientific",
      "userId": "06507099400106311504"
     },
     "user_tz": 420
    },
    "id": "OpSm67fGI0eT",
    "outputId": "86eeb82b-a326-481c-faaf-95bd789b4652"
   },
   "outputs": [],
   "source": [
    "# Pick a bin, any bin (from 1 to N/2)\n",
    "test_bin = 3\n",
    "print(freq_domain[test_bin])\n",
    "print(freq_domain[N-test_bin])\n",
    "print(\"Check it out... real parts should be equal, imaginary equal and opposite sign...\")"
   ]
  },
  {
   "cell_type": "markdown",
   "metadata": {
    "id": "NYTxyK-1VD2C"
   },
   "source": [
    "With that out of the way, let's button up our method of plotting FFTs - when we're working with only real samples (vs. complex, as in an I/Q radio signal), we can simply look at bins 0 to N/2-1, and double each bin. Any real valued signal that exceeds fs/2 will simply alias back into the range of DC to fs/2."
   ]
  },
  {
   "cell_type": "code",
   "execution_count": null,
   "metadata": {
    "executionInfo": {
     "elapsed": 112,
     "status": "ok",
     "timestamp": 1650814983116,
     "user": {
      "displayName": "Thoren Scientific",
      "userId": "06507099400106311504"
     },
     "user_tz": 420
    },
    "id": "EBsslwgxv8-_"
   },
   "outputs": [],
   "source": [
    "\"\"\" First, let's Button up a few utility functions. \"\"\"\n",
    "\n",
    "import numpy as np\n",
    "\n",
    "\n",
    "\n",
    "def plot_time_and_freq(t, f):\n",
    "    \"\"\"Basic plotting routine for time and frequency\"\"\"\n",
    "    from matplotlib import pyplot as plt\n",
    "    plt.close('all')\n",
    "    plt.figure(1)\n",
    "    plt.title(\"Time domain data, with imperfections\")\n",
    "    plt.xlabel(\"Sample Number\")\n",
    "    plt.ylabel(\"ADC counts\")\n",
    "    plt.plot(t)\n",
    "    #plt.xlim(0, 100)\n",
    "    plt.show\n",
    "\n",
    "    plt.figure(2)\n",
    "    plt.title(\"Spectrum\")\n",
    "    plt.xlabel(\"FFT Bin\")\n",
    "    plt.ylabel(\"Signal Level, dBC\")\n",
    "    plt.plot(f)\n",
    "    plt.xlim(0, 100) # Uncomment to manually zoom\n",
    "    plt.show\n",
    "\n",
    "def calculate_spectrum_dbc(data, ref = None, dBc = True):\n",
    "    \"\"\" Calculate spectrum in dB releative to the carrier. \"\"\"\n",
    "    freq_domain = np.fft.fft(data)\n",
    "    freq_domain_magnitude = (2.0*np.abs(freq_domain)/len(data))[:len(data)//2]\n",
    "    max_freq_domain_magnitude = np.max(freq_domain_magnitude)\n",
    "    if ref is None:\n",
    "        ref = max_freq_domain_magnitude\n",
    "    freq_domain_magnitude_db = 20 * np.log10(freq_domain_magnitude / ref)\n",
    "    return freq_domain_magnitude_db\n",
    "\n"
   ]
  },
  {
   "cell_type": "markdown",
   "metadata": {
    "id": "0T8vzqwuWMpd"
   },
   "source": [
    "# Windowing\n",
    "Although it might not have seemed significant at first glance, the biggest simplification in the introductory example is that we parked the fundamental signal at an exact FFT bin. In fact - we DEFINED the signal frequency in terms of FFT bin, then calculated what its actual frequency was based on the sample rate and number of data points.\n",
    "\n",
    "In reality - this situation is surprisingly difficult to achieve in real life: it requires two signal sources - one to set the sample rate (often called the \"clock\") and another to generate the analog input signal. They both must be stable, and at least one of them must have very fine frequency resolution (we'll define HOW fine shortly...). Furthermore, they either need to be extraordinarily accurate (like, rubidium frequency standard accurate), OR more realistically (and lower cost), both sharing the same frequemcy reference. Often benchtop synthesizers will have a 10MHz reference input, output, or both, as BNC jacks on the back panel.\n",
    "\n",
    "What happens if you're not on an exact frequency bin? Well, you end up with a partial cycyle of the fundamental signal in the data record, and the fundamental \"leaks\" all over the spectrum. Let's get a picture of how bad it can get:\n",
    "\n",
    "https://www.gaussianwaves.com/2020/09/window-function-figure-of-merits/"
   ]
  },
  {
   "cell_type": "code",
   "execution_count": null,
   "metadata": {
    "id": "bHmdL854DEHs"
   },
   "outputs": [],
   "source": [
    "\"\"\" Do some experimentation here - let's leave the bin number at 50.0050,\n",
    "    which is a 100ppm departure from exactly bin 50. Try 1ppm departures, 1000ppm, etc.\n",
    "    to get a feel for just how perfect you need to be to get an accurate measurement\n",
    "    of the fundamental with no leakage.\n",
    "    \n",
    "    Also note that the phase is randomized so you should be able to run this cell\n",
    "    over and over again, and see how the leakage \"dances\" around :)\n",
    "    \"\"\"\n",
    "\n",
    "#time_domain = create_signal(4096, 50.0050, 16, 1.0, 1.0, 0.00001, 0.0, 0.0, 0.0, randomize_phase=True)\n",
    "\n",
    "N = 4096\n",
    "fs = 100000\n",
    "bin_number = 50.05\n",
    "signal_ampl = 2.5\n",
    "vref = 5.0\n",
    "bits = 16\n",
    "\n",
    "freq = fs * bin_number / N\n",
    "\n",
    "time_domain = sine_sig_gen(N, freq, fs, signal_ampl, vref, bits, randomize_phase = True)\n",
    "\n",
    "print(\"Here's a few samples: \", time_domain[0:8])\n",
    "\n",
    "freq_domain_magnitude_db = calculate_spectrum_dbc(time_domain, ref = 2 ** 16)\n",
    "\n",
    "print(\"Here's a few bins: \", freq_domain_magnitude_db[48:53])\n",
    "\n",
    "plot_time_and_freq(time_domain, freq_domain_magnitude_db)"
   ]
  },
  {
   "cell_type": "code",
   "execution_count": null,
   "metadata": {
    "id": "HPQ3r-qDP2U6"
   },
   "outputs": [],
   "source": [
    "\"\"\" So how the heck do we mitigate this effect? the answer is \"windowing\".\n",
    "    \"\"\"\n",
    "\n",
    "N = 4096\n",
    "fs = 100000\n",
    "bin_number = 50.05\n",
    "signal_ampl = 2.5\n",
    "vref = 5.0\n",
    "bits = 16\n",
    "\n",
    "freq = fs * bin_number / N\n",
    "\n",
    "time_domain = sine_sig_gen(N, freq, fs, signal_ampl, vref, bits, randomize_phase = True)\n",
    "\n",
    "window = np.blackman(len(time_domain))\n",
    "\n",
    "windowed_time_domain = time_domain * window\n",
    "\n",
    "freq_domain_magnitude_db = calculate_spectrum_dbc(windowed_time_domain, ref = 2 ** 16)\n",
    "\n",
    "print(\"Here's a few bins: \", freq_domain_magnitude_db[48:53])\n",
    "\n",
    "plot_time_and_freq(windowed_time_domain, freq_domain_magnitude_db)"
   ]
  },
  {
   "cell_type": "markdown",
   "metadata": {},
   "source": [
    "**Deeper Analysis**\n",
    "Before digging into how to calculate SNR, THD, etc. let's look at a couple of \"pre-canned\" tools. PScope is Analog Device's ADC testing tool, which while it only talks to proprietary hardware, does give you the ability to load data and analyze it. The file format is somewhat proprietary, so the \"save_for_pscope\" library takes care of formatting. Another library, sin_params, is a Python implementation of many of PScope's analysis functions. After running the following cell, open Pscope, then file -> Load Data, and open time_domain.adc.\n",
    "\n",
    "Notice that Pscope does not apply a window by default - select Blackman-Harris 92dB, then compare parameters.\n",
    "\n",
    "**Note** - looks like there may be a bug, SNR from sin_params looks like it might actually be THD.\n",
    "\n",
    "Screenshot:\n",
    "\n",
    "<img src=\"pscope_vs_sin_params.PNG\" width=800>"
   ]
  },
  {
   "cell_type": "code",
   "execution_count": null,
   "metadata": {},
   "outputs": [],
   "source": [
    "from save_for_pscope import save_for_pscope\n",
    "from sin_params import *\n",
    "\n",
    "# Saving time_domaine twice - workaround because PScope expects two channels\n",
    "save_for_pscope(\"time_domain.adc\", 16, True, len(time_domain), \"DC0000\", \"LTC1111\", time_domain, time_domain, )\n",
    "\n",
    "harmonics, snr, thd, sinad, enob, sfdr, floor = sin_params(time_domain)\n",
    "print(\"A.C. Performance parameters (ONLY valid for a sine input):\")\n",
    "print(\"Harmonics:\", harmonics)\n",
    "print(\"snr: \", thd)\n",
    "print(\"Sinad: \", sinad)\n",
    "print(\"ENOB: \", enob)\n",
    "print(\"SFDR: \", sfdr)\n",
    "print(\"Noise Floor: \", floor)\n"
   ]
  },
  {
   "cell_type": "markdown",
   "metadata": {},
   "source": [
    "# Thermal Noise\n",
    "So far, the only imperfections we've introduced are quantization noise (which is actually a property of the signa chain) and non-coherent effects (which are mathematical artifacts.) Now we're going to add in thermal noise, which will ALWAYS exist in any signal. In fact, let's start with a useful simplification and assume that our signal chain is absolutely perfect, and the ADC's sampling circuit is the ONLY source of noise. Many ADC architectures have a sample and hold circuit that captures a sample on a small capacitor with a network of switches as shown below:\n",
    "\n",
    "**To Do: Add LTspice pic**\n",
    "\n",
    "The very act of capturing a sample on a capacitor, even a perfect one, introduces noise. If you repeatedly capture a noiseless signal on a capacitor of size C, then the resulting samples will NOT be perfect; they will have a distribution of voltages with a standard deviation of:\n",
    "\n",
    "SQRT(K*T/C)\n",
    "\n",
    "Where:\n",
    "\n",
    "K = Boltzmann's constant (1.380649 × 10-23 J/K)\n",
    "T = absolute temperature in Kelvin\n",
    "C = capacitance in farads.\n",
    "\n",
    "Similar to an ADC's \"number of bits\", the sample capacitor (along with the full-scale input range) represents an UPPER LIMIT on an ADC's Signal to Noise ratio."
   ]
  },
  {
   "cell_type": "code",
   "execution_count": null,
   "metadata": {},
   "outputs": [],
   "source": [
    "\"\"\"Add thermal noise to the signal generation function \"\"\"\n",
    "\n",
    "import numpy as np # Import NumPy library\n",
    "\n",
    "def sine_sig_gen(N, freq, fs, signal_ampl, vref, bits, t_noise, quantize = True):\n",
    "    \"\"\"\n",
    "    Parameters:\n",
    "        N - Number of samples\n",
    "        freq - signal frequency in Hertz\n",
    "        fs - sample rate in samples per second\n",
    "        signal_ampl - sinewave signal amplitude (Textbook definition - peak value away from zero)\n",
    "        vref - ADC voltage reference, representing the peak-to-peak range of inputs\n",
    "        bits - ADC output will be quantized to 2**bits discrete values\n",
    "        t_noise - RMS thermal noise level\n",
    "    \n",
    "    Returns:\n",
    "        quantized ADC values as floating point array of length N, or unquantized floating point\n",
    "        values if quantize parameter is set to False.\n",
    "    \"\"\"\n",
    "    smp_times = np.arange(0, N/fs, 1.0/fs) # Sampling Instants    \n",
    "    signal = signal_ampl * np.cos(2.0*np.pi*freq*smp_times) # Generate the signal\n",
    "    noise = np.random.normal(loc=0, scale=t_noise, size=N)\n",
    "    signal += noise # Add noise. (Nothing's perfect :( ))\n",
    "    adc_inf_bits = ((signal / vref) * 2**bits) # Scale to number of output codes\n",
    "    adc_output = np.around(adc_inf_bits, decimals=0) # Quantize\n",
    "    \n",
    "    if quantize:\n",
    "        return adc_output\n",
    "    else:\n",
    "        return adc_inf_bits"
   ]
  },
  {
   "cell_type": "markdown",
   "metadata": {
    "id": "zIzpU3fHFMG0"
   },
   "source": [
    "**To Cover Next:**\n",
    "\n",
    "\n",
    "*   Different types of windows and their figures of merit\n",
    "*   Interpreting windowed FFT data - how to sum power across a few bins, etc.\n",
    "*   SNR/THD calculations, locating harmonics, figuring out what to count as signal, noise, and harmonics.\n",
    "*   Masking out regions of the noise floor that we know can't be blamed on the ADC (automasking in Pscope)\n",
    "*   Video (scalar) averaging to smooth out the noise floor\n",
    "*   Vector averaging to reduce noise floor while accurately measuring harmonically related components\n",
    "\n"
   ]
  },
  {
   "cell_type": "markdown",
   "metadata": {
    "id": "vjyNmbbjWhQY"
   },
   "source": [
    "# Talking to Hardware (Warmup)"
   ]
  },
  {
   "cell_type": "code",
   "execution_count": null,
   "metadata": {
    "id": "EMx4d3ONNHHr"
   },
   "outputs": [],
   "source": [
    "# Okay now let's talk to some hardware!\n",
    "\n",
    "# Here's how to connect to a local runtime:\n",
    "# https://research.google.com/colaboratory/local-runtimes.html\n",
    "# And after doing so, this actually works!!:\n",
    "# For reference:\n",
    "# pip install --upgrade jupyter_http_over_ws>=0.0.7 && jupyter serverextension enable --py jupyter_http_over_ws\n",
    "\n",
    "# jupyter notebook --NotebookApp.allow_origin='https://colab.research.google.com'  --port=8888  --NotebookApp.port_retries=0\n",
    "\n",
    "\n",
    "# It looks like installing from pip works fine, but...\n",
    "# shouldn't need to do here if the Jupyter environment is set up properly.\n",
    "# !pip install pyadi-iio\n",
    "\n",
    "import adi\n",
    "print(\"ADI path:\")\n",
    "print(adi.__file__)\n",
    "print(\"ADI objects:\")\n",
    "print(dir(adi))\n",
    "\n"
   ]
  },
  {
   "cell_type": "code",
   "execution_count": null,
   "metadata": {
    "executionInfo": {
     "elapsed": 177,
     "status": "aborted",
     "timestamp": 1650809551980,
     "user": {
      "displayName": "Thoren Scientific",
      "userId": "06507099400106311504"
     },
     "user_tz": 420
    },
    "id": "iADOghf4U0IX"
   },
   "outputs": [],
   "source": [
    "# Warmup for seeing if we can talk to hardware here...\n",
    "# Note that you need to have a Pi with an LM75 attached somewhere on your network\n",
    "my_uri = \"ip:experimenter.local\" # \"experimenter\" is Thoren's \"always-on\" hacker board\n",
    "my_temp_sensr = adi.lm75(uri=my_uri)\n",
    "\n",
    "print(\"\\nChecking temperature channel...\")\n",
    "print(\"Temperature raw: \" + str(my_temp_sensr.input))\n",
    "print(\n",
    "    \"Temperature in deg. Celsius: \" + str(my_temp_sensr.to_degrees(my_temp_sensr.input))\n",
    ")\n",
    "\n",
    "print(\"\\nUpdate interval: \" + str(my_temp_sensr.update_interval))\n",
    "\n",
    "\n",
    "print(\"\\nMax threshold: \" + str(my_temp_sensr.to_degrees(my_temp_sensr.max)))\n",
    "print(\"Max hysteresis: \" + str(my_temp_sensr.to_degrees(my_temp_sensr.max_hyst)))\n",
    "\n",
    "print(\"\\nSetting max threshold, hyst. to 30C, 25C...\\n\")\n",
    "\n",
    "my_temp_sensr.max = my_temp_sensr.to_millidegrees(30.0)\n",
    "my_temp_sensr.max_hyst = my_temp_sensr.to_millidegrees(25.0)\n",
    "\n",
    "print(\"New thresholds:\")\n",
    "print(\"Max: \" + str(my_temp_sensr.to_degrees(my_temp_sensr.max)))\n",
    "print(\"Max hysteresis: \" + str(my_temp_sensr.to_degrees(my_temp_sensr.max_hyst)))\n",
    "\n",
    "del my_temp_sensr"
   ]
  },
  {
   "cell_type": "markdown",
   "metadata": {
    "id": "RkwnXx0qW5xn"
   },
   "source": [
    "# Talkigng to Hardware (Actual ADC data)"
   ]
  },
  {
   "cell_type": "markdown",
   "metadata": {
    "id": "S3k1z3xKVjDw"
   },
   "source": [
    "Okay, now that we've successfully talked to a basic sensor, let's grab some data from an actual ADC!"
   ]
  },
  {
   "cell_type": "code",
   "execution_count": null,
   "metadata": {
    "executionInfo": {
     "elapsed": 178,
     "status": "aborted",
     "timestamp": 1650809551981,
     "user": {
      "displayName": "Thoren Scientific",
      "userId": "06507099400106311504"
     },
     "user_tz": 420
    },
    "id": "pPIJYEAbVsB6"
   },
   "outputs": [],
   "source": [
    "'''\n",
    "NOTE: At the moment, the LTC2387 interface is in this branch:\n",
    "https://github.com/mthoren-adi/pyadi-iio/tree/ltc2387_dev\n",
    "\n",
    "'''\n",
    "\n",
    "\n",
    "import numpy as np\n",
    "from scipy import signal\n",
    "\n",
    "device_name = \"ltc2387\"\n",
    "\n",
    "# Optionally passs URI as command line argument,\n",
    "# else use default context manager search\n",
    "my_uri = sys.argv[1] if len(sys.argv) >= 2 else None\n",
    "print(\"uri: \" + str(my_uri))\n",
    "\n",
    "my_adc = adi.ltc2387(uri=my_uri)\n",
    "my_adc.rx_buffer_size = 4096\n",
    "my_adc.sampling_frequency = 10000000\n",
    "\n",
    "data = my_adc.rx()\n",
    "\n",
    "# Figure out how to do this correctly - need to sign extend bit 17\n",
    "for i in range(len(data)):\n",
    "    if data[i] > 2 ** 17:\n",
    "        data[i] -= 2 ** 18\n",
    "\n",
    "x = np.arange(0, len(data))\n",
    "plt.figure(1)\n",
    "plt.clf()\n",
    "plt.plot(x, data)\n",
    "plt.show()\n",
    "\n",
    "f, Pxx_den = signal.periodogram(data, my_adc.sampling_frequency, window=\"blackman\")\n",
    "\n",
    "plt.figure(2)\n",
    "\n",
    "plt.clf()\n",
    "plt.semilogy(f, Pxx_den)\n",
    "plt.ylim([1e-5, 1e5])\n",
    "plt.xlabel(\"frequency [Hz]\")\n",
    "plt.ylabel(\"PSD [V**2/Hz]\")\n",
    "plt.draw()\n",
    "plt.pause(0.05)\n",
    "\n",
    "del my_adc"
   ]
  },
  {
   "cell_type": "markdown",
   "metadata": {
    "id": "IsWRuppJW77L"
   },
   "source": [
    "Next Steps:\n",
    "1. Run sin_params analysis\n",
    "2. Pick apart analysis, cover windowing, summing signal, noise, and harmonic power"
   ]
  }
 ],
 "metadata": {
  "accelerator": "GPU",
  "colab": {
   "authorship_tag": "ABX9TyMbxefKCOAYmAMGhZd3klyB",
   "collapsed_sections": [],
   "name": "ADC_Crash_Course.ipynb",
   "provenance": [],
   "toc_visible": true
  },
  "kernelspec": {
   "display_name": "Python 3 (ipykernel)",
   "language": "python",
   "name": "python3"
  },
  "language_info": {
   "codemirror_mode": {
    "name": "ipython",
    "version": 3
   },
   "file_extension": ".py",
   "mimetype": "text/x-python",
   "name": "python",
   "nbconvert_exporter": "python",
   "pygments_lexer": "ipython3",
   "version": "3.9.12"
  }
 },
 "nbformat": 4,
 "nbformat_minor": 1
}
